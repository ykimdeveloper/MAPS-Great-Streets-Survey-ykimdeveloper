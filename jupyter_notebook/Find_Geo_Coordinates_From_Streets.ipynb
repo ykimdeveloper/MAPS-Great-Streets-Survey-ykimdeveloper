{
 "cells": [
  {
   "cell_type": "code",
   "execution_count": 31,
   "id": "54fb41f9",
   "metadata": {},
   "outputs": [],
   "source": [
    "import requests\n",
    "import json\n",
    "import urllib\n",
    "\n",
    "base_url= \"https://maps.googleapis.com/maps/api/geocode/json?\"\n",
    "AUTH_KEY = \"\"\n",
    "\n",
    "# set up your search parameters - address and API key\n",
    "parameters = {\"address\": \"Venice Blvd. and Moore st, Los Angeles\",\n",
    "              \"key\": AUTH_KEY}\n",
    "\n",
    "print(f\"{base_url}{urllib.parse.urlencode(parameters)}\")\n",
    "\n",
    "r = requests.get(f\"{base_url}{urllib.parse.urlencode(parameters)}\")\n",
    "data = json.loads(r.content)"
   ]
  },
  {
   "cell_type": "code",
   "execution_count": 30,
   "id": "496f34a0",
   "metadata": {},
   "outputs": [
    {
     "data": {
      "text/plain": [
       "{'results': [{'address_components': [{'long_name': 'Venice Boulevard & Moore Street',\n",
       "     'short_name': 'Venice Blvd. & Moore St',\n",
       "     'types': ['intersection']},\n",
       "    {'long_name': 'Mar Vista',\n",
       "     'short_name': 'Mar Vista',\n",
       "     'types': ['neighborhood', 'political']},\n",
       "    {'long_name': 'Los Angeles',\n",
       "     'short_name': 'Los Angeles',\n",
       "     'types': ['locality', 'political']},\n",
       "    {'long_name': 'Los Angeles County',\n",
       "     'short_name': 'Los Angeles County',\n",
       "     'types': ['administrative_area_level_2', 'political']},\n",
       "    {'long_name': 'California',\n",
       "     'short_name': 'CA',\n",
       "     'types': ['administrative_area_level_1', 'political']},\n",
       "    {'long_name': 'United States',\n",
       "     'short_name': 'US',\n",
       "     'types': ['country', 'political']},\n",
       "    {'long_name': '90066', 'short_name': '90066', 'types': ['postal_code']}],\n",
       "   'formatted_address': 'Venice Blvd. & Moore St, Los Angeles, CA 90066, USA',\n",
       "   'geometry': {'location': {'lat': 34.0001831, 'lng': -118.4404026},\n",
       "    'location_type': 'GEOMETRIC_CENTER',\n",
       "    'viewport': {'northeast': {'lat': 34.0015320802915,\n",
       "      'lng': -118.4390536197085},\n",
       "     'southwest': {'lat': 33.9988341197085, 'lng': -118.4417515802915}}},\n",
       "   'place_id': 'EjNWZW5pY2UgQmx2ZC4gJiBNb29yZSBTdCwgTG9zIEFuZ2VsZXMsIENBIDkwMDY2LCBVU0EiZiJkChQKEgm7Q6t69brCgBEu8J_ivbncBRIUChIJu0OrevW6woARLvCf4r253AUaFAoSCTdD9oi3ucKAEWlQNDOYEBXnGhQKEglFd5pn9brCgBH8PnOqBaqFJSIKDScERBQVxm1nuQ',\n",
       "   'types': ['intersection']}],\n",
       " 'status': 'OK'}"
      ]
     },
     "execution_count": 30,
     "metadata": {},
     "output_type": "execute_result"
    }
   ],
   "source": [
    "data"
   ]
  },
  {
   "cell_type": "markdown",
   "id": "26801f0b",
   "metadata": {},
   "source": [
    "# Latitude & Longitude\n"
   ]
  },
  {
   "cell_type": "code",
   "execution_count": 6,
   "id": "72873dcf",
   "metadata": {},
   "outputs": [
    {
     "name": "stdout",
     "output_type": "stream",
     "text": [
      "34.0001831,-118.4404026\n"
     ]
    }
   ],
   "source": [
    "lat = data['results'][0]['geometry']['location']['lat']\n",
    "lng = data['results'][0]['geometry']['location']['lng']\n",
    "print( str(lat) + \",\" + str(lng))"
   ]
  },
  {
   "cell_type": "markdown",
   "id": "7b34a606",
   "metadata": {},
   "source": [
    "# Street and Cross Street "
   ]
  },
  {
   "cell_type": "code",
   "execution_count": 7,
   "id": "f55be147",
   "metadata": {},
   "outputs": [
    {
     "data": {
      "text/plain": [
       "'Venice Blvd. & Moore St, Los Angeles, CA 90066, USA'"
      ]
     },
     "execution_count": 7,
     "metadata": {},
     "output_type": "execute_result"
    }
   ],
   "source": [
    "data['results'][0]['formatted_address']"
   ]
  },
  {
   "cell_type": "markdown",
   "id": "1ef8ddbe",
   "metadata": {},
   "source": [
    "## Check if the cross streets exist with GEOMETRIC_CENTER or APPROXIMATE"
   ]
  },
  {
   "cell_type": "code",
   "execution_count": 11,
   "id": "63da96fa",
   "metadata": {},
   "outputs": [
    {
     "data": {
      "text/plain": [
       "'GEOMETRIC_CENTER'"
      ]
     },
     "execution_count": 11,
     "metadata": {},
     "output_type": "execute_result"
    }
   ],
   "source": [
    "data['results'][0]['geometry']['location_type'] "
   ]
  },
  {
   "cell_type": "code",
   "execution_count": 13,
   "id": "85f123af",
   "metadata": {},
   "outputs": [],
   "source": [
    "def geo_street(street_01, street_02):\n",
    "    parameters = {\"address\": street_01+\" and \" + street_02 +\", Los Angeles\",\n",
    "              \"key\": AUTH_KEY}\n",
    "\n",
    "    r = requests.get(f\"{base_url}{urllib.parse.urlencode(parameters)}\")\n",
    "    \n",
    "    data = json.loads(r.content)\n",
    "    if data['status'] == 'OK' and  data['results'][0]['geometry']['location_type'] == 'GEOMETRIC_CENTER':\n",
    "        lat = data['results'][0]['geometry']['location']['lat']\n",
    "        lng = data['results'][0]['geometry']['location']['lng']\n",
    "        formatted_address = data['results'][0]['address_components'][0]['long_name']\n",
    "        geo_type = data['results'][0]['geometry']['location_type']\n",
    "        zipcode = data['results'][0]['address_components'][6]['long_name']\n",
    "        area = data['results'][0]['address_components'][1]['long_name']\n",
    "    elif  data['status'] == 'OK' and  data['results'][0]['geometry']['location_type'] == 'APPROXIMATE':\n",
    "        lat = data['results'][0]['geometry']['location']['lat']\n",
    "        lng = data['results'][0]['geometry']['location']['lng']\n",
    "        formatted_address = data['results'][0]['address_components'][0]['long_name']\n",
    "        geo_type = data['results'][0]['geometry']['location_type']\n",
    "        zipcode = np.nan\n",
    "        area = data['results'][0]['address_components'][1]['long_name']\n",
    "    elif data['status'] == 'ZERO_RESULTS':\n",
    "        lat = np.nan\n",
    "        lng = np.nan\n",
    "        formatted_address = np.nan\n",
    "        geo_type = np.nan\n",
    "        zipcode = np.nan\n",
    "        area = np.nan\n",
    "        \n",
    "    return lat, lng,formatted_address, zipcode, geo_type, area"
   ]
  },
  {
   "cell_type": "code",
   "execution_count": 15,
   "id": "bd246411",
   "metadata": {},
   "outputs": [
    {
     "name": "stdout",
     "output_type": "stream",
     "text": [
      "34.0980023 -118.3266816 Sunset Boulevard & Vine Street 90028 GEOMETRIC_CENTER Central LA\n"
     ]
    }
   ],
   "source": [
    "v,w,x,y,z,zz = geo_street('sunset', 'vine')\n",
    "print(v,w,x,y,z,zz)"
   ]
  },
  {
   "cell_type": "code",
   "execution_count": 25,
   "id": "a4b8315c",
   "metadata": {},
   "outputs": [],
   "source": [
    "import pandas as pd\n",
    "import numpy as np\n",
    "df = pd.read_csv ('../ykimdeveloper_LA_streets.csv')\n",
    "# columns needs to be rename"
   ]
  },
  {
   "cell_type": "code",
   "execution_count": 26,
   "id": "db442a0f",
   "metadata": {},
   "outputs": [],
   "source": [
    "#get ordinal street name, 41 becomes 41st\n",
    "def ordinaltg(n):\n",
    "    return str(n) + {1: 'st', 2: 'nd', 3: 'rd'}.get(4 if 10 <= n % 100 < 20 else n % 10, \"th\")"
   ]
  },
  {
   "cell_type": "code",
   "execution_count": 27,
   "id": "b4c5bfa0",
   "metadata": {},
   "outputs": [],
   "source": [
    "\n",
    "location_between = []\n",
    "for col in df['Location Between']:        \n",
    "    if type(col) is str and col.isnumeric() :\n",
    "        int_col = int(col)\n",
    "        location_between.append(ordinaltg(int_col))\n",
    "    elif type(col) is str:\n",
    "        col = col.replace(\".\", \"\").lower().rstrip()\n",
    "        col = col.replace(\"_\", \" \")\n",
    "        location_between.append(col)\n",
    "    else:\n",
    "        location_between.append(col)\n",
    "\n"
   ]
  },
  {
   "cell_type": "markdown",
   "id": "70b770dd",
   "metadata": {},
   "source": [
    "# These streets needed to be manually changed because of human error "
   ]
  },
  {
   "cell_type": "code",
   "execution_count": 28,
   "id": "eb92cc9d",
   "metadata": {},
   "outputs": [
    {
     "name": "stderr",
     "output_type": "stream",
     "text": [
      "/tmp/ipykernel_10468/414245053.py:2: SettingWithCopyWarning: \n",
      "A value is trying to be set on a copy of a slice from a DataFrame\n",
      "\n",
      "See the caveats in the documentation: https://pandas.pydata.org/pandas-docs/stable/user_guide/indexing.html#returning-a-view-versus-a-copy\n",
      "  df['Location Between'][100] = 'moore st'\n",
      "/tmp/ipykernel_10468/414245053.py:3: SettingWithCopyWarning: \n",
      "A value is trying to be set on a copy of a slice from a DataFrame\n",
      "\n",
      "See the caveats in the documentation: https://pandas.pydata.org/pandas-docs/stable/user_guide/indexing.html#returning-a-view-versus-a-copy\n",
      "  df['Location Between'][395] = \"north fickett street\"\n"
     ]
    }
   ],
   "source": [
    "df['Location Between'] = location_between\n",
    "df['Location Between'][100] = 'moore st'\n",
    "df['Location Between'][395] = \"north fickett street\""
   ]
  },
  {
   "cell_type": "code",
   "execution_count": 29,
   "id": "b4460148",
   "metadata": {},
   "outputs": [
    {
     "name": "stdout",
     "output_type": "stream",
     "text": [
      "34.2587903 -118.4321397 Laurel Canyon Boulevard & Van Nuys Boulevard 91331 GEOMETRIC_CENTER Pacoima\n",
      "34.2587903 -118.4321397 Laurel Canyon Boulevard & Van Nuys Boulevard 91331 GEOMETRIC_CENTER Pacoima\n",
      "34.2587903 -118.4321397 Laurel Canyon Boulevard & Van Nuys Boulevard 91331 GEOMETRIC_CENTER Pacoima\n",
      "34.2660955 -118.4221176 San Fernando Road & Van Nuys Boulevard 91331 GEOMETRIC_CENTER Pacoima\n",
      "34.2587903 -118.4321397 Laurel Canyon Boulevard & Van Nuys Boulevard 91331 GEOMETRIC_CENTER Pacoima\n",
      "34.2587903 -118.4321397 Laurel Canyon Boulevard & Van Nuys Boulevard 91331 GEOMETRIC_CENTER Pacoima\n",
      "34.2660955 -118.4221176 San Fernando Road & Van Nuys Boulevard 91331 GEOMETRIC_CENTER Pacoima\n",
      "34.2587903 -118.4321397 Laurel Canyon Boulevard & Van Nuys Boulevard 91331 GEOMETRIC_CENTER Pacoima\n",
      "34.2587903 -118.4321397 Laurel Canyon Boulevard & Van Nuys Boulevard 91331 GEOMETRIC_CENTER Pacoima\n",
      "34.2587903 -118.4321397 Laurel Canyon Boulevard & Van Nuys Boulevard 91331 GEOMETRIC_CENTER Pacoima\n",
      "34.2587903 -118.4321397 Laurel Canyon Boulevard & Van Nuys Boulevard 91331 GEOMETRIC_CENTER Pacoima\n",
      "34.2587903 -118.4321397 Laurel Canyon Boulevard & Van Nuys Boulevard 91331 GEOMETRIC_CENTER Pacoima\n",
      "34.2587903 -118.4321397 Laurel Canyon Boulevard & Van Nuys Boulevard 91331 GEOMETRIC_CENTER Pacoima\n",
      "34.2660955 -118.4221176 San Fernando Road & Van Nuys Boulevard 91331 GEOMETRIC_CENTER Pacoima\n",
      "34.2587903 -118.4321397 Laurel Canyon Boulevard & Van Nuys Boulevard 91331 GEOMETRIC_CENTER Pacoima\n",
      "34.2587903 -118.4321397 Laurel Canyon Boulevard & Van Nuys Boulevard 91331 GEOMETRIC_CENTER Pacoima\n",
      "34.2587903 -118.4321397 Laurel Canyon Boulevard & Van Nuys Boulevard 91331 GEOMETRIC_CENTER Pacoima\n",
      "34.2660955 -118.4221176 San Fernando Road & Van Nuys Boulevard 91331 GEOMETRIC_CENTER Pacoima\n",
      "34.2587903 -118.4321397 Laurel Canyon Boulevard & Van Nuys Boulevard 91331 GEOMETRIC_CENTER Pacoima\n",
      "34.2587903 -118.4321397 Laurel Canyon Boulevard & Van Nuys Boulevard 91331 GEOMETRIC_CENTER Pacoima\n",
      "34.2587903 -118.4321397 Laurel Canyon Boulevard & Van Nuys Boulevard 91331 GEOMETRIC_CENTER Pacoima\n",
      "34.2587903 -118.4321397 Laurel Canyon Boulevard & Van Nuys Boulevard 91331 GEOMETRIC_CENTER Pacoima\n",
      "34.2587903 -118.4321397 Laurel Canyon Boulevard & Van Nuys Boulevard 91331 GEOMETRIC_CENTER Pacoima\n",
      "34.0039416 -118.2564986 East Vernon Avenue & South Central Avenue 90011 GEOMETRIC_CENTER South Los Angeles\n",
      "34.0039416 -118.2564986 East Vernon Avenue & South Central Avenue 90011 GEOMETRIC_CENTER South Los Angeles\n",
      "34.0039416 -118.2564986 East Vernon Avenue & South Central Avenue 90011 GEOMETRIC_CENTER South Los Angeles\n",
      "34.00138889999999 -118.437982 Venice Boulevard & Wade Street 90066 GEOMETRIC_CENTER Mar Vista\n",
      "34.00138889999999 -118.437982 Venice Boulevard & Wade Street 90066 GEOMETRIC_CENTER Mar Vista\n",
      "33.9997707 -118.4412112 Venice Boulevard & Beethoven Street 90066 GEOMETRIC_CENTER Mar Vista\n",
      "33.9997707 -118.4412112 Venice Boulevard & Beethoven Street 90066 GEOMETRIC_CENTER Mar Vista\n",
      "33.9997707 -118.4412112 Venice Boulevard & Beethoven Street 90066 GEOMETRIC_CENTER Mar Vista\n",
      "33.9997707 -118.4412112 Venice Boulevard & Beethoven Street 90066 GEOMETRIC_CENTER Mar Vista\n",
      "33.9997707 -118.4412112 Venice Boulevard & Beethoven Street 90066 GEOMETRIC_CENTER Mar Vista\n",
      "33.9997707 -118.4412112 Venice Boulevard & Beethoven Street 90066 GEOMETRIC_CENTER Mar Vista\n",
      "33.9997707 -118.4412112 Venice Boulevard & Beethoven Street 90066 GEOMETRIC_CENTER Mar Vista\n",
      "33.9997707 -118.4412112 Venice Boulevard & Beethoven Street 90066 GEOMETRIC_CENTER Mar Vista\n",
      "33.9997707 -118.4412112 Venice Boulevard & Beethoven Street 90066 GEOMETRIC_CENTER Mar Vista\n",
      "33.9997707 -118.4412112 Venice Boulevard & Beethoven Street 90066 GEOMETRIC_CENTER Mar Vista\n",
      "34.0001831 -118.4404026 Venice Boulevard & Moore Street 90066 GEOMETRIC_CENTER Mar Vista\n",
      "33.9997707 -118.4412112 Venice Boulevard & Beethoven Street 90066 GEOMETRIC_CENTER Mar Vista\n",
      "33.9997707 -118.4412112 Venice Boulevard & Beethoven Street 90066 GEOMETRIC_CENTER Mar Vista\n",
      "33.9997707 -118.4412112 Venice Boulevard & Beethoven Street 90066 GEOMETRIC_CENTER Mar Vista\n",
      "33.9997707 -118.4412112 Venice Boulevard & Beethoven Street 90066 GEOMETRIC_CENTER Mar Vista\n",
      "33.9997707 -118.4412112 Venice Boulevard & Beethoven Street 90066 GEOMETRIC_CENTER Mar Vista\n",
      "33.9997707 -118.4412112 Venice Boulevard & Beethoven Street 90066 GEOMETRIC_CENTER Mar Vista\n",
      "33.9997707 -118.4412112 Venice Boulevard & Beethoven Street 90066 GEOMETRIC_CENTER Mar Vista\n",
      "33.9997707 -118.4412112 Venice Boulevard & Beethoven Street 90066 GEOMETRIC_CENTER Mar Vista\n",
      "33.9997707 -118.4412112 Venice Boulevard & Beethoven Street 90066 GEOMETRIC_CENTER Mar Vista\n",
      "33.9997707 -118.4412112 Venice Boulevard & Beethoven Street 90066 GEOMETRIC_CENTER Mar Vista\n",
      "33.9997707 -118.4412112 Venice Boulevard & Beethoven Street 90066 GEOMETRIC_CENTER Mar Vista\n",
      "33.9997707 -118.4412112 Venice Boulevard & Beethoven Street 90066 GEOMETRIC_CENTER Mar Vista\n",
      "33.9997707 -118.4412112 Venice Boulevard & Beethoven Street 90066 GEOMETRIC_CENTER Mar Vista\n",
      "33.9997707 -118.4412112 Venice Boulevard & Beethoven Street 90066 GEOMETRIC_CENTER Mar Vista\n",
      "33.9997707 -118.4412112 Venice Boulevard & Beethoven Street 90066 GEOMETRIC_CENTER Mar Vista\n",
      "33.9997707 -118.4412112 Venice Boulevard & Beethoven Street 90066 GEOMETRIC_CENTER Mar Vista\n",
      "33.9997707 -118.4412112 Venice Boulevard & Beethoven Street 90066 GEOMETRIC_CENTER Mar Vista\n",
      "33.9997707 -118.4412112 Venice Boulevard & Beethoven Street 90066 GEOMETRIC_CENTER Mar Vista\n",
      "33.9997707 -118.4412112 Venice Boulevard & Beethoven Street 90066 GEOMETRIC_CENTER Mar Vista\n",
      "33.9997707 -118.4412112 Venice Boulevard & Beethoven Street 90066 GEOMETRIC_CENTER Mar Vista\n",
      "33.9997707 -118.4412112 Venice Boulevard & Beethoven Street 90066 GEOMETRIC_CENTER Mar Vista\n",
      "33.9997707 -118.4412112 Venice Boulevard & Beethoven Street 90066 GEOMETRIC_CENTER Mar Vista\n",
      "33.9997707 -118.4412112 Venice Boulevard & Beethoven Street 90066 GEOMETRIC_CENTER Mar Vista\n",
      "33.9997707 -118.4412112 Venice Boulevard & Beethoven Street 90066 GEOMETRIC_CENTER Mar Vista\n",
      "33.9997707 -118.4412112 Venice Boulevard & Beethoven Street 90066 GEOMETRIC_CENTER Mar Vista\n",
      "33.9997707 -118.4412112 Venice Boulevard & Beethoven Street 90066 GEOMETRIC_CENTER Mar Vista\n",
      "33.9997707 -118.4412112 Venice Boulevard & Beethoven Street 90066 GEOMETRIC_CENTER Mar Vista\n"
     ]
    },
    {
     "ename": "KeyboardInterrupt",
     "evalue": "",
     "output_type": "error",
     "traceback": [
      "\u001b[0;31m---------------------------------------------------------------------------\u001b[0m",
      "\u001b[0;31mKeyboardInterrupt\u001b[0m                         Traceback (most recent call last)",
      "\u001b[0;32m/tmp/ipykernel_10468/345283045.py\u001b[0m in \u001b[0;36m<module>\u001b[0;34m\u001b[0m\n\u001b[1;32m      7\u001b[0m \u001b[0;32mfor\u001b[0m \u001b[0ma\u001b[0m\u001b[0;34m,\u001b[0m\u001b[0mb\u001b[0m \u001b[0;32min\u001b[0m \u001b[0mzip\u001b[0m\u001b[0;34m(\u001b[0m\u001b[0mdf\u001b[0m\u001b[0;34m.\u001b[0m\u001b[0mLocation\u001b[0m\u001b[0;34m,\u001b[0m \u001b[0mdf\u001b[0m\u001b[0;34m[\u001b[0m\u001b[0;34m'Location Between'\u001b[0m\u001b[0;34m]\u001b[0m\u001b[0;34m)\u001b[0m\u001b[0;34m:\u001b[0m\u001b[0;34m\u001b[0m\u001b[0;34m\u001b[0m\u001b[0m\n\u001b[1;32m      8\u001b[0m     \u001b[0;32mif\u001b[0m \u001b[0misinstance\u001b[0m\u001b[0;34m(\u001b[0m\u001b[0ma\u001b[0m\u001b[0;34m,\u001b[0m \u001b[0mstr\u001b[0m\u001b[0;34m)\u001b[0m \u001b[0;32mand\u001b[0m \u001b[0misinstance\u001b[0m\u001b[0;34m(\u001b[0m\u001b[0mb\u001b[0m\u001b[0;34m,\u001b[0m \u001b[0mstr\u001b[0m\u001b[0;34m)\u001b[0m\u001b[0;34m:\u001b[0m\u001b[0;34m\u001b[0m\u001b[0;34m\u001b[0m\u001b[0m\n\u001b[0;32m----> 9\u001b[0;31m         \u001b[0mlat\u001b[0m\u001b[0;34m,\u001b[0m \u001b[0mlng\u001b[0m\u001b[0;34m,\u001b[0m \u001b[0mfrmt_address\u001b[0m\u001b[0;34m,\u001b[0m \u001b[0mzipcode\u001b[0m\u001b[0;34m,\u001b[0m \u001b[0mgeotype\u001b[0m\u001b[0;34m,\u001b[0m \u001b[0marea\u001b[0m \u001b[0;34m=\u001b[0m \u001b[0mgeo_street\u001b[0m\u001b[0;34m(\u001b[0m\u001b[0ma\u001b[0m\u001b[0;34m,\u001b[0m \u001b[0mb\u001b[0m\u001b[0;34m)\u001b[0m\u001b[0;34m\u001b[0m\u001b[0;34m\u001b[0m\u001b[0m\n\u001b[0m\u001b[1;32m     10\u001b[0m         \u001b[0mprint\u001b[0m\u001b[0;34m(\u001b[0m\u001b[0mlat\u001b[0m\u001b[0;34m,\u001b[0m \u001b[0mlng\u001b[0m\u001b[0;34m,\u001b[0m \u001b[0mfrmt_address\u001b[0m\u001b[0;34m,\u001b[0m \u001b[0mzipcode\u001b[0m\u001b[0;34m,\u001b[0m \u001b[0mgeotype\u001b[0m\u001b[0;34m,\u001b[0m \u001b[0marea\u001b[0m\u001b[0;34m)\u001b[0m\u001b[0;34m\u001b[0m\u001b[0;34m\u001b[0m\u001b[0m\n\u001b[1;32m     11\u001b[0m         \u001b[0mlat_arr\u001b[0m\u001b[0;34m.\u001b[0m\u001b[0mappend\u001b[0m\u001b[0;34m(\u001b[0m\u001b[0mlat\u001b[0m\u001b[0;34m)\u001b[0m\u001b[0;34m\u001b[0m\u001b[0;34m\u001b[0m\u001b[0m\n",
      "\u001b[0;32m/tmp/ipykernel_10468/2667162023.py\u001b[0m in \u001b[0;36mgeo_street\u001b[0;34m(street_01, street_02)\u001b[0m\n\u001b[1;32m      3\u001b[0m               \"key\": AUTH_KEY}\n\u001b[1;32m      4\u001b[0m \u001b[0;34m\u001b[0m\u001b[0m\n\u001b[0;32m----> 5\u001b[0;31m     \u001b[0mr\u001b[0m \u001b[0;34m=\u001b[0m \u001b[0mrequests\u001b[0m\u001b[0;34m.\u001b[0m\u001b[0mget\u001b[0m\u001b[0;34m(\u001b[0m\u001b[0;34mf\"{base_url}{urllib.parse.urlencode(parameters)}\"\u001b[0m\u001b[0;34m)\u001b[0m\u001b[0;34m\u001b[0m\u001b[0;34m\u001b[0m\u001b[0m\n\u001b[0m\u001b[1;32m      6\u001b[0m \u001b[0;34m\u001b[0m\u001b[0m\n\u001b[1;32m      7\u001b[0m     \u001b[0mdata\u001b[0m \u001b[0;34m=\u001b[0m \u001b[0mjson\u001b[0m\u001b[0;34m.\u001b[0m\u001b[0mloads\u001b[0m\u001b[0;34m(\u001b[0m\u001b[0mr\u001b[0m\u001b[0;34m.\u001b[0m\u001b[0mcontent\u001b[0m\u001b[0;34m)\u001b[0m\u001b[0;34m\u001b[0m\u001b[0;34m\u001b[0m\u001b[0m\n",
      "\u001b[0;32m~/anaconda3/lib/python3.9/site-packages/requests/api.py\u001b[0m in \u001b[0;36mget\u001b[0;34m(url, params, **kwargs)\u001b[0m\n\u001b[1;32m     73\u001b[0m     \"\"\"\n\u001b[1;32m     74\u001b[0m \u001b[0;34m\u001b[0m\u001b[0m\n\u001b[0;32m---> 75\u001b[0;31m     \u001b[0;32mreturn\u001b[0m \u001b[0mrequest\u001b[0m\u001b[0;34m(\u001b[0m\u001b[0;34m'get'\u001b[0m\u001b[0;34m,\u001b[0m \u001b[0murl\u001b[0m\u001b[0;34m,\u001b[0m \u001b[0mparams\u001b[0m\u001b[0;34m=\u001b[0m\u001b[0mparams\u001b[0m\u001b[0;34m,\u001b[0m \u001b[0;34m**\u001b[0m\u001b[0mkwargs\u001b[0m\u001b[0;34m)\u001b[0m\u001b[0;34m\u001b[0m\u001b[0;34m\u001b[0m\u001b[0m\n\u001b[0m\u001b[1;32m     76\u001b[0m \u001b[0;34m\u001b[0m\u001b[0m\n\u001b[1;32m     77\u001b[0m \u001b[0;34m\u001b[0m\u001b[0m\n",
      "\u001b[0;32m~/anaconda3/lib/python3.9/site-packages/requests/api.py\u001b[0m in \u001b[0;36mrequest\u001b[0;34m(method, url, **kwargs)\u001b[0m\n\u001b[1;32m     59\u001b[0m     \u001b[0;31m# cases, and look like a memory leak in others.\u001b[0m\u001b[0;34m\u001b[0m\u001b[0;34m\u001b[0m\u001b[0m\n\u001b[1;32m     60\u001b[0m     \u001b[0;32mwith\u001b[0m \u001b[0msessions\u001b[0m\u001b[0;34m.\u001b[0m\u001b[0mSession\u001b[0m\u001b[0;34m(\u001b[0m\u001b[0;34m)\u001b[0m \u001b[0;32mas\u001b[0m \u001b[0msession\u001b[0m\u001b[0;34m:\u001b[0m\u001b[0;34m\u001b[0m\u001b[0;34m\u001b[0m\u001b[0m\n\u001b[0;32m---> 61\u001b[0;31m         \u001b[0;32mreturn\u001b[0m \u001b[0msession\u001b[0m\u001b[0;34m.\u001b[0m\u001b[0mrequest\u001b[0m\u001b[0;34m(\u001b[0m\u001b[0mmethod\u001b[0m\u001b[0;34m=\u001b[0m\u001b[0mmethod\u001b[0m\u001b[0;34m,\u001b[0m \u001b[0murl\u001b[0m\u001b[0;34m=\u001b[0m\u001b[0murl\u001b[0m\u001b[0;34m,\u001b[0m \u001b[0;34m**\u001b[0m\u001b[0mkwargs\u001b[0m\u001b[0;34m)\u001b[0m\u001b[0;34m\u001b[0m\u001b[0;34m\u001b[0m\u001b[0m\n\u001b[0m\u001b[1;32m     62\u001b[0m \u001b[0;34m\u001b[0m\u001b[0m\n\u001b[1;32m     63\u001b[0m \u001b[0;34m\u001b[0m\u001b[0m\n",
      "\u001b[0;32m~/anaconda3/lib/python3.9/site-packages/requests/sessions.py\u001b[0m in \u001b[0;36mrequest\u001b[0;34m(self, method, url, params, data, headers, cookies, files, auth, timeout, allow_redirects, proxies, hooks, stream, verify, cert, json)\u001b[0m\n\u001b[1;32m    540\u001b[0m         }\n\u001b[1;32m    541\u001b[0m         \u001b[0msend_kwargs\u001b[0m\u001b[0;34m.\u001b[0m\u001b[0mupdate\u001b[0m\u001b[0;34m(\u001b[0m\u001b[0msettings\u001b[0m\u001b[0;34m)\u001b[0m\u001b[0;34m\u001b[0m\u001b[0;34m\u001b[0m\u001b[0m\n\u001b[0;32m--> 542\u001b[0;31m         \u001b[0mresp\u001b[0m \u001b[0;34m=\u001b[0m \u001b[0mself\u001b[0m\u001b[0;34m.\u001b[0m\u001b[0msend\u001b[0m\u001b[0;34m(\u001b[0m\u001b[0mprep\u001b[0m\u001b[0;34m,\u001b[0m \u001b[0;34m**\u001b[0m\u001b[0msend_kwargs\u001b[0m\u001b[0;34m)\u001b[0m\u001b[0;34m\u001b[0m\u001b[0;34m\u001b[0m\u001b[0m\n\u001b[0m\u001b[1;32m    543\u001b[0m \u001b[0;34m\u001b[0m\u001b[0m\n\u001b[1;32m    544\u001b[0m         \u001b[0;32mreturn\u001b[0m \u001b[0mresp\u001b[0m\u001b[0;34m\u001b[0m\u001b[0;34m\u001b[0m\u001b[0m\n",
      "\u001b[0;32m~/anaconda3/lib/python3.9/site-packages/requests/sessions.py\u001b[0m in \u001b[0;36msend\u001b[0;34m(self, request, **kwargs)\u001b[0m\n\u001b[1;32m    653\u001b[0m \u001b[0;34m\u001b[0m\u001b[0m\n\u001b[1;32m    654\u001b[0m         \u001b[0;31m# Send the request\u001b[0m\u001b[0;34m\u001b[0m\u001b[0;34m\u001b[0m\u001b[0m\n\u001b[0;32m--> 655\u001b[0;31m         \u001b[0mr\u001b[0m \u001b[0;34m=\u001b[0m \u001b[0madapter\u001b[0m\u001b[0;34m.\u001b[0m\u001b[0msend\u001b[0m\u001b[0;34m(\u001b[0m\u001b[0mrequest\u001b[0m\u001b[0;34m,\u001b[0m \u001b[0;34m**\u001b[0m\u001b[0mkwargs\u001b[0m\u001b[0;34m)\u001b[0m\u001b[0;34m\u001b[0m\u001b[0;34m\u001b[0m\u001b[0m\n\u001b[0m\u001b[1;32m    656\u001b[0m \u001b[0;34m\u001b[0m\u001b[0m\n\u001b[1;32m    657\u001b[0m         \u001b[0;31m# Total elapsed time of the request (approximately)\u001b[0m\u001b[0;34m\u001b[0m\u001b[0;34m\u001b[0m\u001b[0m\n",
      "\u001b[0;32m~/anaconda3/lib/python3.9/site-packages/requests/adapters.py\u001b[0m in \u001b[0;36msend\u001b[0;34m(self, request, stream, timeout, verify, cert, proxies)\u001b[0m\n\u001b[1;32m    437\u001b[0m         \u001b[0;32mtry\u001b[0m\u001b[0;34m:\u001b[0m\u001b[0;34m\u001b[0m\u001b[0;34m\u001b[0m\u001b[0m\n\u001b[1;32m    438\u001b[0m             \u001b[0;32mif\u001b[0m \u001b[0;32mnot\u001b[0m \u001b[0mchunked\u001b[0m\u001b[0;34m:\u001b[0m\u001b[0;34m\u001b[0m\u001b[0;34m\u001b[0m\u001b[0m\n\u001b[0;32m--> 439\u001b[0;31m                 resp = conn.urlopen(\n\u001b[0m\u001b[1;32m    440\u001b[0m                     \u001b[0mmethod\u001b[0m\u001b[0;34m=\u001b[0m\u001b[0mrequest\u001b[0m\u001b[0;34m.\u001b[0m\u001b[0mmethod\u001b[0m\u001b[0;34m,\u001b[0m\u001b[0;34m\u001b[0m\u001b[0;34m\u001b[0m\u001b[0m\n\u001b[1;32m    441\u001b[0m                     \u001b[0murl\u001b[0m\u001b[0;34m=\u001b[0m\u001b[0murl\u001b[0m\u001b[0;34m,\u001b[0m\u001b[0;34m\u001b[0m\u001b[0;34m\u001b[0m\u001b[0m\n",
      "\u001b[0;32m~/anaconda3/lib/python3.9/site-packages/urllib3/connectionpool.py\u001b[0m in \u001b[0;36murlopen\u001b[0;34m(self, method, url, body, headers, retries, redirect, assert_same_host, timeout, pool_timeout, release_conn, chunked, body_pos, **response_kw)\u001b[0m\n\u001b[1;32m    697\u001b[0m \u001b[0;34m\u001b[0m\u001b[0m\n\u001b[1;32m    698\u001b[0m             \u001b[0;31m# Make the request on the httplib connection object.\u001b[0m\u001b[0;34m\u001b[0m\u001b[0;34m\u001b[0m\u001b[0m\n\u001b[0;32m--> 699\u001b[0;31m             httplib_response = self._make_request(\n\u001b[0m\u001b[1;32m    700\u001b[0m                 \u001b[0mconn\u001b[0m\u001b[0;34m,\u001b[0m\u001b[0;34m\u001b[0m\u001b[0;34m\u001b[0m\u001b[0m\n\u001b[1;32m    701\u001b[0m                 \u001b[0mmethod\u001b[0m\u001b[0;34m,\u001b[0m\u001b[0;34m\u001b[0m\u001b[0;34m\u001b[0m\u001b[0m\n",
      "\u001b[0;32m~/anaconda3/lib/python3.9/site-packages/urllib3/connectionpool.py\u001b[0m in \u001b[0;36m_make_request\u001b[0;34m(self, conn, method, url, timeout, chunked, **httplib_request_kw)\u001b[0m\n\u001b[1;32m    380\u001b[0m         \u001b[0;31m# Trigger any extra validation we need to do.\u001b[0m\u001b[0;34m\u001b[0m\u001b[0;34m\u001b[0m\u001b[0m\n\u001b[1;32m    381\u001b[0m         \u001b[0;32mtry\u001b[0m\u001b[0;34m:\u001b[0m\u001b[0;34m\u001b[0m\u001b[0;34m\u001b[0m\u001b[0m\n\u001b[0;32m--> 382\u001b[0;31m             \u001b[0mself\u001b[0m\u001b[0;34m.\u001b[0m\u001b[0m_validate_conn\u001b[0m\u001b[0;34m(\u001b[0m\u001b[0mconn\u001b[0m\u001b[0;34m)\u001b[0m\u001b[0;34m\u001b[0m\u001b[0;34m\u001b[0m\u001b[0m\n\u001b[0m\u001b[1;32m    383\u001b[0m         \u001b[0;32mexcept\u001b[0m \u001b[0;34m(\u001b[0m\u001b[0mSocketTimeout\u001b[0m\u001b[0;34m,\u001b[0m \u001b[0mBaseSSLError\u001b[0m\u001b[0;34m)\u001b[0m \u001b[0;32mas\u001b[0m \u001b[0me\u001b[0m\u001b[0;34m:\u001b[0m\u001b[0;34m\u001b[0m\u001b[0;34m\u001b[0m\u001b[0m\n\u001b[1;32m    384\u001b[0m             \u001b[0;31m# Py2 raises this as a BaseSSLError, Py3 raises it as socket timeout.\u001b[0m\u001b[0;34m\u001b[0m\u001b[0;34m\u001b[0m\u001b[0m\n",
      "\u001b[0;32m~/anaconda3/lib/python3.9/site-packages/urllib3/connectionpool.py\u001b[0m in \u001b[0;36m_validate_conn\u001b[0;34m(self, conn)\u001b[0m\n\u001b[1;32m   1008\u001b[0m         \u001b[0;31m# Force connect early to allow us to validate the connection.\u001b[0m\u001b[0;34m\u001b[0m\u001b[0;34m\u001b[0m\u001b[0m\n\u001b[1;32m   1009\u001b[0m         \u001b[0;32mif\u001b[0m \u001b[0;32mnot\u001b[0m \u001b[0mgetattr\u001b[0m\u001b[0;34m(\u001b[0m\u001b[0mconn\u001b[0m\u001b[0;34m,\u001b[0m \u001b[0;34m\"sock\"\u001b[0m\u001b[0;34m,\u001b[0m \u001b[0;32mNone\u001b[0m\u001b[0;34m)\u001b[0m\u001b[0;34m:\u001b[0m  \u001b[0;31m# AppEngine might not have  `.sock`\u001b[0m\u001b[0;34m\u001b[0m\u001b[0;34m\u001b[0m\u001b[0m\n\u001b[0;32m-> 1010\u001b[0;31m             \u001b[0mconn\u001b[0m\u001b[0;34m.\u001b[0m\u001b[0mconnect\u001b[0m\u001b[0;34m(\u001b[0m\u001b[0;34m)\u001b[0m\u001b[0;34m\u001b[0m\u001b[0;34m\u001b[0m\u001b[0m\n\u001b[0m\u001b[1;32m   1011\u001b[0m \u001b[0;34m\u001b[0m\u001b[0m\n\u001b[1;32m   1012\u001b[0m         \u001b[0;32mif\u001b[0m \u001b[0;32mnot\u001b[0m \u001b[0mconn\u001b[0m\u001b[0;34m.\u001b[0m\u001b[0mis_verified\u001b[0m\u001b[0;34m:\u001b[0m\u001b[0;34m\u001b[0m\u001b[0;34m\u001b[0m\u001b[0m\n",
      "\u001b[0;32m~/anaconda3/lib/python3.9/site-packages/urllib3/connection.py\u001b[0m in \u001b[0;36mconnect\u001b[0;34m(self)\u001b[0m\n\u001b[1;32m    414\u001b[0m             \u001b[0mcontext\u001b[0m\u001b[0;34m.\u001b[0m\u001b[0mload_default_certs\u001b[0m\u001b[0;34m(\u001b[0m\u001b[0;34m)\u001b[0m\u001b[0;34m\u001b[0m\u001b[0;34m\u001b[0m\u001b[0m\n\u001b[1;32m    415\u001b[0m \u001b[0;34m\u001b[0m\u001b[0m\n\u001b[0;32m--> 416\u001b[0;31m         self.sock = ssl_wrap_socket(\n\u001b[0m\u001b[1;32m    417\u001b[0m             \u001b[0msock\u001b[0m\u001b[0;34m=\u001b[0m\u001b[0mconn\u001b[0m\u001b[0;34m,\u001b[0m\u001b[0;34m\u001b[0m\u001b[0;34m\u001b[0m\u001b[0m\n\u001b[1;32m    418\u001b[0m             \u001b[0mkeyfile\u001b[0m\u001b[0;34m=\u001b[0m\u001b[0mself\u001b[0m\u001b[0;34m.\u001b[0m\u001b[0mkey_file\u001b[0m\u001b[0;34m,\u001b[0m\u001b[0;34m\u001b[0m\u001b[0;34m\u001b[0m\u001b[0m\n",
      "\u001b[0;32m~/anaconda3/lib/python3.9/site-packages/urllib3/util/ssl_.py\u001b[0m in \u001b[0;36mssl_wrap_socket\u001b[0;34m(sock, keyfile, certfile, cert_reqs, ca_certs, server_hostname, ssl_version, ciphers, ssl_context, ca_cert_dir, key_password, ca_cert_data, tls_in_tls)\u001b[0m\n\u001b[1;32m    447\u001b[0m \u001b[0;34m\u001b[0m\u001b[0m\n\u001b[1;32m    448\u001b[0m     \u001b[0;32mif\u001b[0m \u001b[0msend_sni\u001b[0m\u001b[0;34m:\u001b[0m\u001b[0;34m\u001b[0m\u001b[0;34m\u001b[0m\u001b[0m\n\u001b[0;32m--> 449\u001b[0;31m         ssl_sock = _ssl_wrap_socket_impl(\n\u001b[0m\u001b[1;32m    450\u001b[0m             \u001b[0msock\u001b[0m\u001b[0;34m,\u001b[0m \u001b[0mcontext\u001b[0m\u001b[0;34m,\u001b[0m \u001b[0mtls_in_tls\u001b[0m\u001b[0;34m,\u001b[0m \u001b[0mserver_hostname\u001b[0m\u001b[0;34m=\u001b[0m\u001b[0mserver_hostname\u001b[0m\u001b[0;34m\u001b[0m\u001b[0;34m\u001b[0m\u001b[0m\n\u001b[1;32m    451\u001b[0m         )\n",
      "\u001b[0;32m~/anaconda3/lib/python3.9/site-packages/urllib3/util/ssl_.py\u001b[0m in \u001b[0;36m_ssl_wrap_socket_impl\u001b[0;34m(sock, ssl_context, tls_in_tls, server_hostname)\u001b[0m\n\u001b[1;32m    491\u001b[0m \u001b[0;34m\u001b[0m\u001b[0m\n\u001b[1;32m    492\u001b[0m     \u001b[0;32mif\u001b[0m \u001b[0mserver_hostname\u001b[0m\u001b[0;34m:\u001b[0m\u001b[0;34m\u001b[0m\u001b[0;34m\u001b[0m\u001b[0m\n\u001b[0;32m--> 493\u001b[0;31m         \u001b[0;32mreturn\u001b[0m \u001b[0mssl_context\u001b[0m\u001b[0;34m.\u001b[0m\u001b[0mwrap_socket\u001b[0m\u001b[0;34m(\u001b[0m\u001b[0msock\u001b[0m\u001b[0;34m,\u001b[0m \u001b[0mserver_hostname\u001b[0m\u001b[0;34m=\u001b[0m\u001b[0mserver_hostname\u001b[0m\u001b[0;34m)\u001b[0m\u001b[0;34m\u001b[0m\u001b[0;34m\u001b[0m\u001b[0m\n\u001b[0m\u001b[1;32m    494\u001b[0m     \u001b[0;32melse\u001b[0m\u001b[0;34m:\u001b[0m\u001b[0;34m\u001b[0m\u001b[0;34m\u001b[0m\u001b[0m\n\u001b[1;32m    495\u001b[0m         \u001b[0;32mreturn\u001b[0m \u001b[0mssl_context\u001b[0m\u001b[0;34m.\u001b[0m\u001b[0mwrap_socket\u001b[0m\u001b[0;34m(\u001b[0m\u001b[0msock\u001b[0m\u001b[0;34m)\u001b[0m\u001b[0;34m\u001b[0m\u001b[0;34m\u001b[0m\u001b[0m\n",
      "\u001b[0;32m~/anaconda3/lib/python3.9/ssl.py\u001b[0m in \u001b[0;36mwrap_socket\u001b[0;34m(self, sock, server_side, do_handshake_on_connect, suppress_ragged_eofs, server_hostname, session)\u001b[0m\n\u001b[1;32m    498\u001b[0m         \u001b[0;31m# SSLSocket class handles server_hostname encoding before it calls\u001b[0m\u001b[0;34m\u001b[0m\u001b[0;34m\u001b[0m\u001b[0m\n\u001b[1;32m    499\u001b[0m         \u001b[0;31m# ctx._wrap_socket()\u001b[0m\u001b[0;34m\u001b[0m\u001b[0;34m\u001b[0m\u001b[0m\n\u001b[0;32m--> 500\u001b[0;31m         return self.sslsocket_class._create(\n\u001b[0m\u001b[1;32m    501\u001b[0m             \u001b[0msock\u001b[0m\u001b[0;34m=\u001b[0m\u001b[0msock\u001b[0m\u001b[0;34m,\u001b[0m\u001b[0;34m\u001b[0m\u001b[0;34m\u001b[0m\u001b[0m\n\u001b[1;32m    502\u001b[0m             \u001b[0mserver_side\u001b[0m\u001b[0;34m=\u001b[0m\u001b[0mserver_side\u001b[0m\u001b[0;34m,\u001b[0m\u001b[0;34m\u001b[0m\u001b[0;34m\u001b[0m\u001b[0m\n",
      "\u001b[0;32m~/anaconda3/lib/python3.9/ssl.py\u001b[0m in \u001b[0;36m_create\u001b[0;34m(cls, sock, server_side, do_handshake_on_connect, suppress_ragged_eofs, server_hostname, context, session)\u001b[0m\n\u001b[1;32m   1038\u001b[0m                         \u001b[0;31m# non-blocking\u001b[0m\u001b[0;34m\u001b[0m\u001b[0;34m\u001b[0m\u001b[0m\n\u001b[1;32m   1039\u001b[0m                         \u001b[0;32mraise\u001b[0m \u001b[0mValueError\u001b[0m\u001b[0;34m(\u001b[0m\u001b[0;34m\"do_handshake_on_connect should not be specified for non-blocking sockets\"\u001b[0m\u001b[0;34m)\u001b[0m\u001b[0;34m\u001b[0m\u001b[0;34m\u001b[0m\u001b[0m\n\u001b[0;32m-> 1040\u001b[0;31m                     \u001b[0mself\u001b[0m\u001b[0;34m.\u001b[0m\u001b[0mdo_handshake\u001b[0m\u001b[0;34m(\u001b[0m\u001b[0;34m)\u001b[0m\u001b[0;34m\u001b[0m\u001b[0;34m\u001b[0m\u001b[0m\n\u001b[0m\u001b[1;32m   1041\u001b[0m             \u001b[0;32mexcept\u001b[0m \u001b[0;34m(\u001b[0m\u001b[0mOSError\u001b[0m\u001b[0;34m,\u001b[0m \u001b[0mValueError\u001b[0m\u001b[0;34m)\u001b[0m\u001b[0;34m:\u001b[0m\u001b[0;34m\u001b[0m\u001b[0;34m\u001b[0m\u001b[0m\n\u001b[1;32m   1042\u001b[0m                 \u001b[0mself\u001b[0m\u001b[0;34m.\u001b[0m\u001b[0mclose\u001b[0m\u001b[0;34m(\u001b[0m\u001b[0;34m)\u001b[0m\u001b[0;34m\u001b[0m\u001b[0;34m\u001b[0m\u001b[0m\n",
      "\u001b[0;32m~/anaconda3/lib/python3.9/ssl.py\u001b[0m in \u001b[0;36mdo_handshake\u001b[0;34m(self, block)\u001b[0m\n\u001b[1;32m   1307\u001b[0m             \u001b[0;32mif\u001b[0m \u001b[0mtimeout\u001b[0m \u001b[0;34m==\u001b[0m \u001b[0;36m0.0\u001b[0m \u001b[0;32mand\u001b[0m \u001b[0mblock\u001b[0m\u001b[0;34m:\u001b[0m\u001b[0;34m\u001b[0m\u001b[0;34m\u001b[0m\u001b[0m\n\u001b[1;32m   1308\u001b[0m                 \u001b[0mself\u001b[0m\u001b[0;34m.\u001b[0m\u001b[0msettimeout\u001b[0m\u001b[0;34m(\u001b[0m\u001b[0;32mNone\u001b[0m\u001b[0;34m)\u001b[0m\u001b[0;34m\u001b[0m\u001b[0;34m\u001b[0m\u001b[0m\n\u001b[0;32m-> 1309\u001b[0;31m             \u001b[0mself\u001b[0m\u001b[0;34m.\u001b[0m\u001b[0m_sslobj\u001b[0m\u001b[0;34m.\u001b[0m\u001b[0mdo_handshake\u001b[0m\u001b[0;34m(\u001b[0m\u001b[0;34m)\u001b[0m\u001b[0;34m\u001b[0m\u001b[0;34m\u001b[0m\u001b[0m\n\u001b[0m\u001b[1;32m   1310\u001b[0m         \u001b[0;32mfinally\u001b[0m\u001b[0;34m:\u001b[0m\u001b[0;34m\u001b[0m\u001b[0;34m\u001b[0m\u001b[0m\n\u001b[1;32m   1311\u001b[0m             \u001b[0mself\u001b[0m\u001b[0;34m.\u001b[0m\u001b[0msettimeout\u001b[0m\u001b[0;34m(\u001b[0m\u001b[0mtimeout\u001b[0m\u001b[0;34m)\u001b[0m\u001b[0;34m\u001b[0m\u001b[0;34m\u001b[0m\u001b[0m\n",
      "\u001b[0;31mKeyboardInterrupt\u001b[0m: "
     ]
    }
   ],
   "source": [
    "lat_arr = []\n",
    "lng_arr = []\n",
    "frmt_address_arr = []\n",
    "zipcode_arr = []\n",
    "area_arr = []\n",
    "geo_type = []\n",
    "for a,b in zip(df.Location, df['Location Between']): \n",
    "    if isinstance(a, str) and isinstance(b, str):\n",
    "        lat, lng, frmt_address, zipcode, geotype, area = geo_street(a, b)\n",
    "        print(lat, lng, frmt_address, zipcode, geotype, area)\n",
    "        lat_arr.append(lat)\n",
    "        lng_arr.append(lng)\n",
    "        frmt_address_arr.append(frmt_address)\n",
    "        zipcode_arr.append(zipcode)\n",
    "        geo_type.append(geotype)\n",
    "        area_arr.append(area)\n",
    "    else:\n",
    "        lat_arr.append(np.nan)\n",
    "        lng_arr.append(np.nan)\n",
    "        frmt_address_arr.append(np.nan)\n",
    "        zipcode_arr.append(np.nan)\n",
    "        area_arr.append(np.nan)\n",
    "        geo_type.append(np.nan)"
   ]
  },
  {
   "cell_type": "code",
   "execution_count": null,
   "id": "01e17c47",
   "metadata": {},
   "outputs": [],
   "source": []
  }
 ],
 "metadata": {
  "kernelspec": {
   "display_name": "Python 3 (ipykernel)",
   "language": "python",
   "name": "python3"
  },
  "language_info": {
   "codemirror_mode": {
    "name": "ipython",
    "version": 3
   },
   "file_extension": ".py",
   "mimetype": "text/x-python",
   "name": "python",
   "nbconvert_exporter": "python",
   "pygments_lexer": "ipython3",
   "version": "3.9.7"
  }
 },
 "nbformat": 4,
 "nbformat_minor": 5
}

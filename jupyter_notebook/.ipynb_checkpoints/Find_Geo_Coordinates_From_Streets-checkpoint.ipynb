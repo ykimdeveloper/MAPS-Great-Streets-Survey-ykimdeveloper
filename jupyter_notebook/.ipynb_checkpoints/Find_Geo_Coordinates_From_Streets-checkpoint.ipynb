{
 "cells": [
  {
   "cell_type": "code",
   "execution_count": 31,
   "id": "54fb41f9",
   "metadata": {},
   "outputs": [],
   "source": [
    "import requests\n",
    "import json\n",
    "import urllib\n",
    "\n",
    "base_url= \"https://maps.googleapis.com/maps/api/geocode/json?\"\n",
    "AUTH_KEY = \"\"\n",
    "\n",
    "# set up your search parameters - address and API key\n",
    "parameters = {\"address\": \"Venice Blvd. and Moore st, Los Angeles\",\n",
    "              \"key\": AUTH_KEY}\n",
    "\n",
    "print(f\"{base_url}{urllib.parse.urlencode(parameters)}\")\n",
    "\n",
    "r = requests.get(f\"{base_url}{urllib.parse.urlencode(parameters)}\")\n",
    "data = json.loads(r.content)"
   ]
  },
  {
   "cell_type": "code",
   "execution_count": 30,
   "id": "496f34a0",
   "metadata": {},
   "outputs": [
    {
     "data": {
      "text/plain": [
       "{'results': [{'address_components': [{'long_name': 'Venice Boulevard & Moore Street',\n",
       "     'short_name': 'Venice Blvd. & Moore St',\n",
       "     'types': ['intersection']},\n",
       "    {'long_name': 'Mar Vista',\n",
       "     'short_name': 'Mar Vista',\n",
       "     'types': ['neighborhood', 'political']},\n",
       "    {'long_name': 'Los Angeles',\n",
       "     'short_name': 'Los Angeles',\n",
       "     'types': ['locality', 'political']},\n",
       "    {'long_name': 'Los Angeles County',\n",
       "     'short_name': 'Los Angeles County',\n",
       "     'types': ['administrative_area_level_2', 'political']},\n",
       "    {'long_name': 'California',\n",
       "     'short_name': 'CA',\n",
       "     'types': ['administrative_area_level_1', 'political']},\n",
       "    {'long_name': 'United States',\n",
       "     'short_name': 'US',\n",
       "     'types': ['country', 'political']},\n",
       "    {'long_name': '90066', 'short_name': '90066', 'types': ['postal_code']}],\n",
       "   'formatted_address': 'Venice Blvd. & Moore St, Los Angeles, CA 90066, USA',\n",
       "   'geometry': {'location': {'lat': 34.0001831, 'lng': -118.4404026},\n",
       "    'location_type': 'GEOMETRIC_CENTER',\n",
       "    'viewport': {'northeast': {'lat': 34.0015320802915,\n",
       "      'lng': -118.4390536197085},\n",
       "     'southwest': {'lat': 33.9988341197085, 'lng': -118.4417515802915}}},\n",
       "   'place_id': 'EjNWZW5pY2UgQmx2ZC4gJiBNb29yZSBTdCwgTG9zIEFuZ2VsZXMsIENBIDkwMDY2LCBVU0EiZiJkChQKEgm7Q6t69brCgBEu8J_ivbncBRIUChIJu0OrevW6woARLvCf4r253AUaFAoSCTdD9oi3ucKAEWlQNDOYEBXnGhQKEglFd5pn9brCgBH8PnOqBaqFJSIKDScERBQVxm1nuQ',\n",
       "   'types': ['intersection']}],\n",
       " 'status': 'OK'}"
      ]
     },
     "execution_count": 30,
     "metadata": {},
     "output_type": "execute_result"
    }
   ],
   "source": [
    "data"
   ]
  },
  {
   "cell_type": "markdown",
   "id": "26801f0b",
   "metadata": {},
   "source": [
    "# Latitude & Longitude\n"
   ]
  },
  {
   "cell_type": "code",
   "execution_count": 6,
   "id": "72873dcf",
   "metadata": {},
   "outputs": [
    {
     "name": "stdout",
     "output_type": "stream",
     "text": [
      "34.0001831,-118.4404026\n"
     ]
    }
   ],
   "source": [
    "lat = data['results'][0]['geometry']['location']['lat']\n",
    "lng = data['results'][0]['geometry']['location']['lng']\n",
    "print( str(lat) + \",\" + str(lng))"
   ]
  },
  {
   "cell_type": "markdown",
   "id": "7b34a606",
   "metadata": {},
   "source": [
    "# Street and Cross Street "
   ]
  },
  {
   "cell_type": "code",
   "execution_count": 7,
   "id": "f55be147",
   "metadata": {},
   "outputs": [
    {
     "data": {
      "text/plain": [
       "'Venice Blvd. & Moore St, Los Angeles, CA 90066, USA'"
      ]
     },
     "execution_count": 7,
     "metadata": {},
     "output_type": "execute_result"
    }
   ],
   "source": [
    "data['results'][0]['formatted_address']"
   ]
  },
  {
   "cell_type": "markdown",
   "id": "1ef8ddbe",
   "metadata": {},
   "source": [
    "## Check if the cross streets exist with GEOMETRIC_CENTER or APPROXIMATE"
   ]
  },
  {
   "cell_type": "code",
   "execution_count": 11,
   "id": "63da96fa",
   "metadata": {},
   "outputs": [
    {
     "data": {
      "text/plain": [
       "'GEOMETRIC_CENTER'"
      ]
     },
     "execution_count": 11,
     "metadata": {},
     "output_type": "execute_result"
    }
   ],
   "source": [
    "data['results'][0]['geometry']['location_type'] "
   ]
  },
  {
   "cell_type": "code",
   "execution_count": 13,
   "id": "85f123af",
   "metadata": {},
   "outputs": [],
   "source": [
    "def geo_street(street_01, street_02):\n",
    "    parameters = {\"address\": street_01+\" and \" + street_02 +\", Los Angeles\",\n",
    "              \"key\": AUTH_KEY}\n",
    "\n",
    "    r = requests.get(f\"{base_url}{urllib.parse.urlencode(parameters)}\")\n",
    "    \n",
    "    data = json.loads(r.content)\n",
    "    if data['status'] == 'OK' and  data['results'][0]['geometry']['location_type'] == 'GEOMETRIC_CENTER':\n",
    "        lat = data['results'][0]['geometry']['location']['lat']\n",
    "        lng = data['results'][0]['geometry']['location']['lng']\n",
    "        formatted_address = data['results'][0]['address_components'][0]['long_name']\n",
    "        geo_type = data['results'][0]['geometry']['location_type']\n",
    "        zipcode = data['results'][0]['address_components'][6]['long_name']\n",
    "        area = data['results'][0]['address_components'][1]['long_name']\n",
    "    elif  data['status'] == 'OK' and  data['results'][0]['geometry']['location_type'] == 'APPROXIMATE':\n",
    "        lat = data['results'][0]['geometry']['location']['lat']\n",
    "        lng = data['results'][0]['geometry']['location']['lng']\n",
    "        formatted_address = data['results'][0]['address_components'][0]['long_name']\n",
    "        geo_type = data['results'][0]['geometry']['location_type']\n",
    "        zipcode = np.nan\n",
    "        area = data['results'][0]['address_components'][1]['long_name']\n",
    "    elif data['status'] == 'ZERO_RESULTS':\n",
    "        lat = np.nan\n",
    "        lng = np.nan\n",
    "        formatted_address = np.nan\n",
    "        geo_type = np.nan\n",
    "        zipcode = np.nan\n",
    "        area = np.nan\n",
    "        \n",
    "    return lat, lng,formatted_address, zipcode, geo_type, area"
   ]
  },
  {
   "cell_type": "code",
   "execution_count": 15,
   "id": "bd246411",
   "metadata": {},
   "outputs": [
    {
     "name": "stdout",
     "output_type": "stream",
     "text": [
      "34.0980023 -118.3266816 Sunset Boulevard & Vine Street 90028 GEOMETRIC_CENTER Central LA\n"
     ]
    }
   ],
   "source": [
    "v,w,x,y,z,zz = geo_street('sunset', 'vine')\n",
    "print(v,w,x,y,z,zz)"
   ]
  },
  {
   "cell_type": "code",
   "execution_count": 25,
   "id": "a4b8315c",
   "metadata": {},
   "outputs": [],
   "source": [
    "import pandas as pd\n",
    "import numpy as np\n",
    "df = pd.read_csv ('../ykimdeveloper_LA_streets.csv')\n",
    "# columns needs to be rename"
   ]
  },
  {
   "cell_type": "code",
   "execution_count": 26,
   "id": "db442a0f",
   "metadata": {},
   "outputs": [],
   "source": [
    "#get ordinal street name, 41 becomes 41st\n",
    "def ordinaltg(n):\n",
    "    return str(n) + {1: 'st', 2: 'nd', 3: 'rd'}.get(4 if 10 <= n % 100 < 20 else n % 10, \"th\")"
   ]
  },
  {
   "cell_type": "code",
   "execution_count": 27,
   "id": "b4c5bfa0",
   "metadata": {},
   "outputs": [],
   "source": [
    "\n",
    "location_between = []\n",
    "for col in df['Location Between']:        \n",
    "    if type(col) is str and col.isnumeric() :\n",
    "        int_col = int(col)\n",
    "        location_between.append(ordinaltg(int_col))\n",
    "    elif type(col) is str:\n",
    "        col = col.replace(\".\", \"\").lower().rstrip()\n",
    "        col = col.replace(\"_\", \" \")\n",
    "        location_between.append(col)\n",
    "    else:\n",
    "        location_between.append(col)\n",
    "\n"
   ]
  },
  {
   "cell_type": "markdown",
   "id": "70b770dd",
   "metadata": {},
   "source": [
    "# These streets needed to be manually changed because of human error "
   ]
  },
  {
   "cell_type": "code",
   "execution_count": 28,
   "id": "eb92cc9d",
   "metadata": {},
   "outputs": [
    {
     "name": "stderr",
     "output_type": "stream",
     "text": [
      "/tmp/ipykernel_10468/414245053.py:2: SettingWithCopyWarning: \n",
      "A value is trying to be set on a copy of a slice from a DataFrame\n",
      "\n",
      "See the caveats in the documentation: https://pandas.pydata.org/pandas-docs/stable/user_guide/indexing.html#returning-a-view-versus-a-copy\n",
      "  df['Location Between'][100] = 'moore st'\n",
      "/tmp/ipykernel_10468/414245053.py:3: SettingWithCopyWarning: \n",
      "A value is trying to be set on a copy of a slice from a DataFrame\n",
      "\n",
      "See the caveats in the documentation: https://pandas.pydata.org/pandas-docs/stable/user_guide/indexing.html#returning-a-view-versus-a-copy\n",
      "  df['Location Between'][395] = \"north fickett street\"\n"
     ]
    }
   ],
   "source": [
    "df['Location Between'] = location_between\n",
    "df['Location Between'][100] = 'moore st'\n",
    "df['Location Between'][395] = \"north fickett street\""
   ]
  },
  {
   "cell_type": "code",
   "execution_count": 2,
   "id": "b4460148",
   "metadata": {},
   "outputs": [],
   "source": [
    "lat_arr = []\n",
    "lng_arr = []\n",
    "frmt_address_arr = []\n",
    "zipcode_arr = []\n",
    "area_arr = []\n",
    "geo_type = []\n",
    "for a,b in zip(df.Location, df['Location Between']): \n",
    "    if isinstance(a, str) and isinstance(b, str):\n",
    "        lat, lng, frmt_address, zipcode, geotype, area = geo_street(a, b)\n",
    "        print(lat, lng, frmt_address, zipcode, geotype, area)\n",
    "        lat_arr.append(lat)\n",
    "        lng_arr.append(lng)\n",
    "        frmt_address_arr.append(frmt_address)\n",
    "        zipcode_arr.append(zipcode)\n",
    "        geo_type.append(geotype)\n",
    "        area_arr.append(area)\n",
    "    else:\n",
    "        lat_arr.append(np.nan)\n",
    "        lng_arr.append(np.nan)\n",
    "        frmt_address_arr.append(np.nan)\n",
    "        zipcode_arr.append(np.nan)\n",
    "        area_arr.append(np.nan)\n",
    "        geo_type.append(np.nan)"
   ]
  },
  {
   "cell_type": "code",
   "execution_count": null,
   "id": "01e17c47",
   "metadata": {},
   "outputs": [],
   "source": []
  }
 ],
 "metadata": {
  "kernelspec": {
   "display_name": "Python 3 (ipykernel)",
   "language": "python",
   "name": "python3"
  },
  "language_info": {
   "codemirror_mode": {
    "name": "ipython",
    "version": 3
   },
   "file_extension": ".py",
   "mimetype": "text/x-python",
   "name": "python",
   "nbconvert_exporter": "python",
   "pygments_lexer": "ipython3",
   "version": "3.9.7"
  }
 },
 "nbformat": 4,
 "nbformat_minor": 5
}
